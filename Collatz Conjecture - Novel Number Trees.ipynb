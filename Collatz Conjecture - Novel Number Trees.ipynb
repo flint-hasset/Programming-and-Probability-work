{
 "cells": [
  {
   "cell_type": "markdown",
   "metadata": {},
   "source": [
    "## Collatz Conjecture: Prove that this sequence converges to 1 for all positive integers. \n",
    "### For a number n: if N is even, n = n/2; if n is odd, n = 3n + 1"
   ]
  },
  {
   "cell_type": "code",
   "execution_count": 6,
   "metadata": {},
   "outputs": [],
   "source": [
    "import matplotlib\n",
    "import pandas as pd\n",
    "import numpy as np"
   ]
  },
  {
   "cell_type": "markdown",
   "metadata": {},
   "source": [
    "#### Generating number trees, identifying first instance when numbers appear"
   ]
  },
  {
   "cell_type": "code",
   "execution_count": 93,
   "metadata": {},
   "outputs": [],
   "source": [
    "x_list = []\n",
    "n_list = []"
   ]
  },
  {
   "cell_type": "code",
   "execution_count": 94,
   "metadata": {},
   "outputs": [],
   "source": [
    "for initial_n in range(2,100):\n",
    "    x = initial_n\n",
    "    while x>1:\n",
    "        if x%2==0: \n",
    "            x = x/2 \n",
    "        else: \n",
    "            x=3*x+1\n",
    "        if x not in x_list:\n",
    "            x_list.extend([int(x)])\n",
    "            n_list.extend([int(initial_n)])\n",
    "    if initial_n not in x_list:\n",
    "        x_list.extend([int(initial_n)])\n",
    "        n_list.extend([int(initial_n)])"
   ]
  },
  {
   "cell_type": "code",
   "execution_count": 95,
   "metadata": {},
   "outputs": [],
   "source": [
    "values = (x_list, n_list)\n",
    "dtype = [('x', int), ('n', int)]"
   ]
  },
  {
   "cell_type": "code",
   "execution_count": 96,
   "metadata": {},
   "outputs": [
    {
     "data": {
      "text/plain": [
       "array([[   1,    2,    3,    4,    5,    6,    7,    8,    9,   10,   11,\n",
       "          12,   13,   14,   15,   16,   17,   18,   19,   20,   21,   22,\n",
       "          23,   24,   25,   26,   27,   28,   29,   30,   31,   32,   33,\n",
       "          34,   35,   36,   37,   38,   39,   40,   41,   42,   43,   44,\n",
       "          45,   46,   47,   48,   49,   50,   51,   52,   53,   54,   55,\n",
       "          56,   57,   58,   59,   60,   61,   62,   63,   64,   65,   66,\n",
       "          67,   68,   69,   70,   71,   72,   73,   74,   75,   76,   77,\n",
       "          78,   79,   80,   81,   82,   83,   84,   85,   86,   87,   88,\n",
       "          89,   90,   91,   92,   93,   94,   95,   96,   97,   98,   99,\n",
       "         100,  101,  103,  104,  106,  107,  110,  112,  113,  116,  118,\n",
       "         119,  121,  122,  124,  125,  128,  130,  131,  134,  136,  137,\n",
       "         140,  142,  143,  146,  148,  149,  152,  154,  155,  160,  161,\n",
       "         166,  167,  170,  172,  175,  178,  179,  182,  184,  188,  190,\n",
       "         196,  197,  202,  206,  208,  214,  215,  220,  224,  226,  232,\n",
       "         233,  238,  242,  244,  250,  251,  256,  262,  263,  268,  269,\n",
       "         274,  280,  283,  286,  292,  296,  298,  304,  310,  319,  322,\n",
       "         323,  325,  334,  340,  350,  358,  364,  376,  377,  394,  395,\n",
       "         404,  412,  425,  430,  433,  445,  448,  466,  479,  484,  485,\n",
       "         488,  502,  526,  538,  566,  577,  592,  593,  638,  646,  650,\n",
       "         668,  700,  719,  728,  754,  790,  808,  850,  866,  890,  911,\n",
       "         958,  970,  976, 1079, 1132, 1154, 1186, 1276, 1300, 1336, 1367,\n",
       "        1438, 1456, 1619, 1732, 1780, 1822, 2051, 2158, 2308, 2429, 2734,\n",
       "        3077, 3238, 3644, 4102, 4616, 4858, 6154, 7288, 9232],\n",
       "       [   2,    2,    3,    3,    3,    3,    3,    3,    6,    7,    7,\n",
       "           7,    7,    7,    7,    7,    7,    7,    7,    9,    9,    9,\n",
       "          12,   15,   15,   15,   15,   15,   15,   15,   15,   15,   18,\n",
       "          19,   19,   19,   19,   19,   21,   21,   21,   24,   25,   25,\n",
       "          25,   27,   27,   27,   27,   27,   27,   27,   27,   27,   27,\n",
       "          27,   27,   27,   27,   27,   27,   27,   27,   27,   27,   27,\n",
       "          27,   27,   27,   27,   27,   27,   27,   27,   27,   27,   27,\n",
       "          27,   27,   27,   27,   27,   27,   27,   27,   27,   27,   27,\n",
       "          27,   27,   27,   27,   27,   27,   27,   27,   27,   27,   27,\n",
       "          27,   27,   27,   27,   27,   27,   27,   27,   27,   27,   27,\n",
       "          27,   27,   27,   27,   27,   27,   27,   27,   27,   27,   27,\n",
       "          27,   27,   27,   27,   27,   27,   27,   27,   27,   27,   27,\n",
       "          27,   27,   27,   27,   27,   27,   27,   27,   30,   33,   33,\n",
       "          33,   36,   37,   37,   37,   39,   39,   39,   39,   39,   39,\n",
       "          39,   39,   39,   39,   39,   39,   42,   43,   43,   43,   43,\n",
       "          43,   43,   43,   43,   45,   45,   45,   48,   51,   51,   51,\n",
       "          51,   51,   54,   55,   55,   55,   55,   55,   55,   55,   57,\n",
       "          57,   57,   60,   63,   63,   63,   63,   63,   63,   63,   63,\n",
       "          63,   63,   63,   63,   63,   66,   69,   69,   69,   72,   73,\n",
       "          73,   73,   75,   75,   75,   75,   75,   75,   75,   75,   78,\n",
       "          79,   79,   79,   79,   79,   79,   79,   79,   79,   81,   84,\n",
       "          87,   87,   87,   87,   87,   87,   87,   90,   93,   93,   93,\n",
       "          96,   97,   97,   97,   99,   99,   99,   99,   99]])"
      ]
     },
     "execution_count": 96,
     "metadata": {},
     "output_type": "execute_result"
    }
   ],
   "source": [
    "np.sort(values, axis=1)"
   ]
  },
  {
   "cell_type": "code",
   "execution_count": null,
   "metadata": {},
   "outputs": [],
   "source": []
  }
 ],
 "metadata": {
  "kernelspec": {
   "display_name": "Python 3",
   "language": "python",
   "name": "python3"
  },
  "language_info": {
   "codemirror_mode": {
    "name": "ipython",
    "version": 3
   },
   "file_extension": ".py",
   "mimetype": "text/x-python",
   "name": "python",
   "nbconvert_exporter": "python",
   "pygments_lexer": "ipython3",
   "version": "3.6.5"
  }
 },
 "nbformat": 4,
 "nbformat_minor": 1
}
