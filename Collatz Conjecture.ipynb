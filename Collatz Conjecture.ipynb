{
 "cells": [
  {
   "cell_type": "markdown",
   "metadata": {},
   "source": [
    "## Collatz Conjecture: Prove that this sequence converges to 1 for all positive integers. \n",
    "### For a number n: if N is even, n = n/2; if n is odd, n = 3n + 1"
   ]
  },
  {
   "cell_type": "code",
   "execution_count": 51,
   "metadata": {},
   "outputs": [
    {
     "name": "stdout",
     "output_type": "stream",
     "text": [
      "5305\n"
     ]
    }
   ],
   "source": [
    "import random\n",
    "n = random.randint(2,10000)\n",
    "print(n)"
   ]
  },
  {
   "cell_type": "code",
   "execution_count": 52,
   "metadata": {},
   "outputs": [
    {
     "name": "stdout",
     "output_type": "stream",
     "text": [
      "Converges in 98 steps\n",
      "[15916, 7958, 3979, 11938, 5969, 17908, 8954, 4477, 13432, 6716, 3358, 1679, 5038, 2519, 7558, 3779, 11338, 5669, 17008, 8504, 4252, 2126, 1063, 3190, 1595, 4786, 2393, 7180, 3590, 1795, 5386, 2693, 8080, 4040, 2020, 1010, 505, 1516, 758, 379, 1138, 569, 1708, 854, 427, 1282, 641, 1924, 962, 481, 1444, 722, 361, 1084, 542, 271, 814, 407, 1222, 611, 1834, 917, 2752, 1376, 688, 344, 172, 86, 43, 130, 65, 196, 98, 49, 148, 74, 37, 112, 56, 28, 14, 7, 22, 11, 34, 17, 52, 26, 13, 40, 20, 10, 5, 16, 8, 4, 2, 1]\n"
     ]
    }
   ],
   "source": [
    "steps = 0\n",
    "steps_list = []\n",
    "while n>1:\n",
    "    if n%2==0: \n",
    "        n = n/2 \n",
    "    else: \n",
    "        n=3*n+1\n",
    "    steps_list.extend([int(n)])\n",
    "    steps +=1\n",
    "print('Converges in {} steps'.format(steps))\n",
    "print(steps_list)"
   ]
  },
  {
   "cell_type": "code",
   "execution_count": null,
   "metadata": {},
   "outputs": [],
   "source": []
  }
 ],
 "metadata": {
  "kernelspec": {
   "display_name": "Python 3",
   "language": "python",
   "name": "python3"
  },
  "language_info": {
   "codemirror_mode": {
    "name": "ipython",
    "version": 3
   },
   "file_extension": ".py",
   "mimetype": "text/x-python",
   "name": "python",
   "nbconvert_exporter": "python",
   "pygments_lexer": "ipython3",
   "version": "3.6.5"
  }
 },
 "nbformat": 4,
 "nbformat_minor": 1
}
